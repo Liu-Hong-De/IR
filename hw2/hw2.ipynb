{
 "cells": [
  {
   "cell_type": "code",
   "execution_count": 1,
   "metadata": {},
   "outputs": [],
   "source": [
    "import re\n",
    "\n",
    "dict_list = {}\n",
    "idx_list = {}\n",
    "\n",
    "file = open('10.warc_index.dict', 'r')\n",
    "line = file.readlines()\n",
    "for d in line:\n",
    "    d_split = d.split(\", \")\n",
    "    dict_list[d_split[0]] = {}\n",
    "    dict_list[d_split[0]][\"text\"] = d_split[1].strip()\n",
    "file.close()\n",
    "\n",
    "file = open('10.warc_index.idx', 'r')\n",
    "line = file.readlines()\n",
    "for d in line:\n",
    "    d_split = d.split(\", \", 1)\n",
    "    idx_list[d_split[0]] = {}\n",
    "    idx_list[d_split[0]][\"text\"] = d_split[1].strip()\n",
    "file.close()"
   ]
  },
  {
   "cell_type": "code",
   "execution_count": 2,
   "metadata": {},
   "outputs": [
    {
     "name": "stdout",
     "output_type": "stream",
     "text": [
      "AAAAA AAAA\n"
     ]
    }
   ],
   "source": [
    "import math\n",
    "import pandas as pd\n",
    "# 40610 maybe total\n",
    "word = {}\n",
    "q_ans = {}\n",
    "d_ans = {}\n",
    "query = input()\n",
    "\n",
    "# query term frequency\n",
    "for q in query.split():\n",
    "    if q in word:\n",
    "        word[q] = word[q] + 1\n",
    "    else:\n",
    "        word[q] = 1\n",
    "\n",
    "for q in query.split():\n",
    "    tf = {}\n",
    "    if q in dict_list:\n",
    "#         idf\n",
    "        dict_list[q][\"idf\"] = math.log(40610/int(dict_list[q][\"text\"]))\n",
    "        \n",
    "#         doc tfidf\n",
    "        idx = re.split(r':<|>;', idx_list[q][\"text\"])\n",
    "        for t in range(1, len(idx)-3, 2):\n",
    "            t_split = idx[t].split(\", \")\n",
    "            tf[t_split[0]] = (1 + math.log(int(t_split[1]))) * dict_list[q][\"idf\"]\n",
    "        d_ans[q] = tf \n",
    "        \n",
    "#         query tfidf\n",
    "        q_ans[q] = {}\n",
    "        q_ans[q][\"q_tfidf\"] = (1 + math.log(word[q])) * dict_list[q][\"idf\"]\n",
    "\n",
    "d_df = pd.DataFrame(d_ans).fillna(0).T\n",
    "q_df = pd.DataFrame(q_ans).fillna(0).T"
   ]
  },
  {
   "cell_type": "code",
   "execution_count": 3,
   "metadata": {},
   "outputs": [],
   "source": [
    "each_sim = []\n",
    "for t in d_df.columns:\n",
    "    dot_product = (d_df[t] * q_df['q_tfidf']).sum()\n",
    "    doc_V = math.sqrt((d_df[t] * d_df[t]).sum())\n",
    "    query_V = math.sqrt((q_df * q_df).sum())\n",
    "    \n",
    "    if doc_V == 0 or query_V == 0:\n",
    "        each_sim.append(0)\n",
    "    else:\n",
    "        each_sim.append(round(dot_product / (doc_V * query_V), 12))\n",
    "df_sim = pd.DataFrame(each_sim, columns = ['cosine-similarity'])\n",
    "df_sim.index = d_df.columns"
   ]
  },
  {
   "cell_type": "code",
   "execution_count": 4,
   "metadata": {},
   "outputs": [],
   "source": [
    "sort_ans = df_sim['cosine-similarity'].sort_values(ascending = False).reset_index()\n",
    "sort_ans.columns = ['document', 'cosine-similarity']\n",
    "sort_ans.to_csv('vsm.result.csv', index=0)"
   ]
  },
  {
   "cell_type": "code",
   "execution_count": null,
   "metadata": {},
   "outputs": [],
   "source": []
  },
  {
   "cell_type": "code",
   "execution_count": null,
   "metadata": {},
   "outputs": [],
   "source": []
  }
 ],
 "metadata": {
  "kernelspec": {
   "display_name": "Python 3",
   "language": "python",
   "name": "python3"
  },
  "language_info": {
   "codemirror_mode": {
    "name": "ipython",
    "version": 3
   },
   "file_extension": ".py",
   "mimetype": "text/x-python",
   "name": "python",
   "nbconvert_exporter": "python",
   "pygments_lexer": "ipython3",
   "version": "3.7.6"
  }
 },
 "nbformat": 4,
 "nbformat_minor": 4
}
