{
 "cells": [
  {
   "cell_type": "code",
   "execution_count": 28,
   "metadata": {},
   "outputs": [],
   "source": [
    "file_path='data/train_TBM_checked_new.txt'\n",
    "dev_path = 'data/development_2.txt'\n",
    "test_path = 'data/test.txt'\n",
    "\n",
    "# data_path='data/train1.data'\n",
    "# tdata_path='data/test.data'\n",
    "# devpath='data/dev.data'\n",
    "\n",
    "train_type = 'data/train_yo.type'\n",
    "test_type = 'data/test.type'\n",
    "dev_type = 'data/dev.type'"
   ]
  },
  {
   "cell_type": "code",
   "execution_count": 29,
   "metadata": {},
   "outputs": [],
   "source": [
    "def loadInputFile(path):\n",
    "    trainingset = []  # store trainingset [content,content,...]\n",
    "    position = []  # store position [article_id, start_pos, end_pos, entity_text, entity_type, ...]\n",
    "    mentions = {}  # store mentions[mention] = Type\n",
    "    \n",
    "    with open(path, 'r', encoding='utf8') as f:\n",
    "        file_text=f.read().encode('utf-8').decode('utf-8-sig')\n",
    "    \n",
    "    datas=file_text.split('\\n\\n--------------------\\n\\n')[:-1]\n",
    "#     print(datas)\n",
    "    for data in datas:\n",
    "        if path == 'data/test.txt':\n",
    "            data = data.split('\\n')[1]\n",
    "        data=data.split('\\n')\n",
    "        content=data[0]\n",
    "        trainingset.append(content)\n",
    "        annotations=data[1:]\n",
    "        for annot in annotations[1:]:\n",
    "            annot=annot.split('\\t') #annot= article_id, start_pos, end_pos, entity_text, entity_type\n",
    "            position.extend(annot)\n",
    "            mentions[annot[3]]=annot[4]\n",
    "    return trainingset, position, mentions"
   ]
  },
  {
   "cell_type": "code",
   "execution_count": 24,
   "metadata": {},
   "outputs": [],
   "source": [
    "trainingset, position, mentions=loadInputFile(file_path)\n",
    "# position = pos2dict(position)\n",
    "# crf(trainingset, position, data_path)"
   ]
  },
  {
   "cell_type": "code",
   "execution_count": 6,
   "metadata": {},
   "outputs": [],
   "source": [
    "testingset, tposition, tmentions=loadInputFile(test_path)\n",
    "# test_crf(testingset, tdata_path)"
   ]
  },
  {
   "cell_type": "code",
   "execution_count": 25,
   "metadata": {},
   "outputs": [],
   "source": [
    "from ckiptagger import WS, POS, NER\n",
    "\n",
    "# text = '傅達仁今將執行安樂死，卻突然爆出自己20年前遭緯來體育台封殺，他不懂自己哪裡得罪到電視台。'\n",
    "ws = WS(\"./ckip\")\n",
    "pos = POS(\"./ckip\")\n",
    "# ner = NER(\"./data\")\n",
    "\n",
    "ws_results = ws(trainingset)\n",
    "pos_results = pos(ws_results)\n",
    "# ner_results = ner(ws_results, pos_results)\n",
    "\n",
    "# print(ws_results)\n",
    "# print(pos_results)\n",
    "# for name in ner_results[0]:\n",
    "#     print(name)"
   ]
  },
  {
   "cell_type": "code",
   "execution_count": null,
   "metadata": {},
   "outputs": [],
   "source": [
    "t_ws = ws(testingset)\n",
    "t_pos = pos(t_ws)"
   ]
  },
  {
   "cell_type": "code",
   "execution_count": 26,
   "metadata": {},
   "outputs": [],
   "source": [
    "import os\n",
    "\n",
    "def word_type(data, dtype, path):\n",
    "    if (os.path.isfile(path)):\n",
    "        os.remove(path)\n",
    "    outputfile = open(path, 'a', encoding= 'utf-8')\n",
    "    \n",
    "#     jieba.set_dictionary('dict.txt.big')\n",
    "    \n",
    "#     for num in data:\n",
    "#         seg = psg.cut(num)\n",
    "        \n",
    "#         for ele in seg:\n",
    "#             for w in str(ele.word):\n",
    "#                 if w == ' ':\n",
    "#                     continue\n",
    "#                 outputfile.write(w + '\\t' + str(ele.flag) + '\\n')\n",
    "        \n",
    "#         outputfile.write('\\n')\n",
    "#     outputfile.close()\n",
    "\n",
    "    for num in range(len(data)):\n",
    "        for w in range(len(data[num])):\n",
    "            count = 0\n",
    "            for per in data[num][w]:\n",
    "                count += 1\n",
    "                if per == ' ':\n",
    "                    continue\n",
    "                outputfile.write(per + '\\t' + dtype[num][w] + '\\t' + str(count) + '\\n')\n",
    "        outputfile.write('\\n')\n",
    "    outputfile.close()"
   ]
  },
  {
   "cell_type": "code",
   "execution_count": 27,
   "metadata": {},
   "outputs": [],
   "source": [
    "word_type(ws_results, pos_results, train_type)"
   ]
  },
  {
   "cell_type": "code",
   "execution_count": null,
   "metadata": {},
   "outputs": [],
   "source": [
    "word_type(t_ws, t_pos, test_type)"
   ]
  },
  {
   "cell_type": "code",
   "execution_count": null,
   "metadata": {},
   "outputs": [],
   "source": []
  }
 ],
 "metadata": {
  "kernelspec": {
   "display_name": "Python 3",
   "language": "python",
   "name": "python3"
  },
  "language_info": {
   "codemirror_mode": {
    "name": "ipython",
    "version": 3
   },
   "file_extension": ".py",
   "mimetype": "text/x-python",
   "name": "python",
   "nbconvert_exporter": "python",
   "pygments_lexer": "ipython3",
   "version": "3.7.6"
  }
 },
 "nbformat": 4,
 "nbformat_minor": 4
}
